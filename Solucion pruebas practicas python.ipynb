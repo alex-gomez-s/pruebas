{
 "cells": [
  {
   "cell_type": "code",
   "execution_count": 14,
   "id": "3c6c9b80-cd12-45fc-b194-e5de45236cb8",
   "metadata": {},
   "outputs": [],
   "source": [
    "import pandas as pd\n",
    "import numpy as np\n",
    "import matplotlib.pyplot as plt"
   ]
  },
  {
   "cell_type": "code",
   "execution_count": 26,
   "id": "ea2b34be-9698-4357-b49c-ee64aaa69c04",
   "metadata": {},
   "outputs": [],
   "source": [
    "#cargar el archivo csv\n",
    "ventas = pd.read_csv('datos_ventas.csv')"
   ]
  },
  {
   "cell_type": "code",
   "execution_count": 23,
   "id": "e39a12ff-59ab-4cc1-82aa-70369f24af92",
   "metadata": {},
   "outputs": [],
   "source": [
    "#calcular el total de ventas por producto\n",
    "\n",
    "ventas['Total Venta'] = ventas['cantidad'] * ventas['precio_unitario']\n",
    "total_ventas = ventas.groupby('producto')['Total Venta'].sum().reset_index()"
   ]
  },
  {
   "cell_type": "code",
   "execution_count": 25,
   "id": "f88a9bd9-3622-40b3-9d64-cfeb576ed320",
   "metadata": {},
   "outputs": [
    {
     "data": {
      "text/html": [
       "<div>\n",
       "<style scoped>\n",
       "    .dataframe tbody tr th:only-of-type {\n",
       "        vertical-align: middle;\n",
       "    }\n",
       "\n",
       "    .dataframe tbody tr th {\n",
       "        vertical-align: top;\n",
       "    }\n",
       "\n",
       "    .dataframe thead th {\n",
       "        text-align: right;\n",
       "    }\n",
       "</style>\n",
       "<table border=\"1\" class=\"dataframe\">\n",
       "  <thead>\n",
       "    <tr style=\"text-align: right;\">\n",
       "      <th></th>\n",
       "      <th>producto</th>\n",
       "      <th>Total Venta</th>\n",
       "    </tr>\n",
       "  </thead>\n",
       "  <tbody>\n",
       "    <tr>\n",
       "      <th>9</th>\n",
       "      <td>Teclado</td>\n",
       "      <td>93109.764671</td>\n",
       "    </tr>\n",
       "    <tr>\n",
       "      <th>1</th>\n",
       "      <td>Auriculares</td>\n",
       "      <td>86219.259925</td>\n",
       "    </tr>\n",
       "    <tr>\n",
       "      <th>5</th>\n",
       "      <td>Laptop</td>\n",
       "      <td>84604.369182</td>\n",
       "    </tr>\n",
       "    <tr>\n",
       "      <th>4</th>\n",
       "      <td>Impresora</td>\n",
       "      <td>82130.128888</td>\n",
       "    </tr>\n",
       "    <tr>\n",
       "      <th>2</th>\n",
       "      <td>Celular</td>\n",
       "      <td>61905.461813</td>\n",
       "    </tr>\n",
       "    <tr>\n",
       "      <th>7</th>\n",
       "      <td>Mouse</td>\n",
       "      <td>60041.330691</td>\n",
       "    </tr>\n",
       "    <tr>\n",
       "      <th>3</th>\n",
       "      <td>Cámara</td>\n",
       "      <td>38754.578315</td>\n",
       "    </tr>\n",
       "    <tr>\n",
       "      <th>0</th>\n",
       "      <td>Altavoz</td>\n",
       "      <td>29261.045264</td>\n",
       "    </tr>\n",
       "    <tr>\n",
       "      <th>6</th>\n",
       "      <td>Monitor</td>\n",
       "      <td>29101.358677</td>\n",
       "    </tr>\n",
       "    <tr>\n",
       "      <th>8</th>\n",
       "      <td>Tablet</td>\n",
       "      <td>17726.174115</td>\n",
       "    </tr>\n",
       "  </tbody>\n",
       "</table>\n",
       "</div>"
      ],
      "text/plain": [
       "      producto   Total Venta\n",
       "9      Teclado  93109.764671\n",
       "1  Auriculares  86219.259925\n",
       "5       Laptop  84604.369182\n",
       "4    Impresora  82130.128888\n",
       "2      Celular  61905.461813\n",
       "7        Mouse  60041.330691\n",
       "3       Cámara  38754.578315\n",
       "0      Altavoz  29261.045264\n",
       "6      Monitor  29101.358677\n",
       "8       Tablet  17726.174115"
      ]
     },
     "execution_count": 25,
     "metadata": {},
     "output_type": "execute_result"
    }
   ],
   "source": [
    "#ordenar de Mayor a menor\n",
    "total_ventas = total_ventas.sort_values(by='Total Venta', ascending=False)\n",
    "total_ventas"
   ]
  },
  {
   "cell_type": "code",
   "execution_count": null,
   "id": "d73e6cf4-fba2-4729-bec7-42779846fa27",
   "metadata": {},
   "outputs": [],
   "source": [
    "#exportar a csv\n",
    "ventas = pd.read_csv('datos_ventas.csv')"
   ]
  }
 ],
 "metadata": {
  "kernelspec": {
   "display_name": "anaconda-2024.02-py310",
   "language": "python",
   "name": "conda-env-anaconda-2024.02-py310-py"
  },
  "language_info": {
   "codemirror_mode": {
    "name": "ipython",
    "version": 3
   },
   "file_extension": ".py",
   "mimetype": "text/x-python",
   "name": "python",
   "nbconvert_exporter": "python",
   "pygments_lexer": "ipython3",
   "version": "3.10.14"
  }
 },
 "nbformat": 4,
 "nbformat_minor": 5
}
